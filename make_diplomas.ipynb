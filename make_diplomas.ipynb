{
 "cells": [
  {
   "cell_type": "markdown",
   "id": "9fd37b5a-70af-4e13-85aa-cac1a5dc1a0b",
   "metadata": {},
   "source": [
    "# TODO\n",
    "\n",
    "- создание фолдера с результатами\n",
    "- отображение в ноутбуке\n",
    "- добавить в филлер возможность печатать по конфигу\n",
    "- добавить автоматическое центрирование\n"
   ]
  },
  {
   "cell_type": "markdown",
   "id": "9b3e3f1d-fb80-4e4c-93b5-8d0d5ffe300f",
   "metadata": {},
   "source": [
    "# Ноутбук для создание диплома."
   ]
  },
  {
   "cell_type": "code",
   "execution_count": 5,
   "id": "51d4ae14-33b6-4380-84d3-a011fefa6350",
   "metadata": {},
   "outputs": [],
   "source": [
    "import pandas as pd\n",
    "import sys\n",
    "sys.path.insert(1, '/util')\n",
    "from util.printer import DiplomasPrint"
   ]
  },
  {
   "cell_type": "markdown",
   "id": "b4d46ef0-06f8-4add-9421-59e7d75abcbf",
   "metadata": {},
   "source": [
    "## Конфиг для диплома\n",
    "\n",
    "- to_upper_folder - путь на выходу на папку с ресурсами\n",
    "- folder          - каталог олимпиады отн. ноутбука\n",
    "- data_places     - имя файла с результатами\n",
    "- diplom_path     - имя файла с шаблоном диплома\n",
    "- save_folder     - имя папки куда сохраняем !!должна быть создана, пока\n",
    "- diploma_type    - тип олимпиады"
   ]
  },
  {
   "cell_type": "code",
   "execution_count": 6,
   "id": "06ebcef8-a333-48e7-a24c-1ef39028400f",
   "metadata": {},
   "outputs": [],
   "source": [
    "\n",
    "toUpperFolder= './../../'                       # путь на выходу на папку с ресурсами\n",
    "folder       = f'{toUpperFolder}/scratch_2022/'          # каталог олимпиады относительно папки гита\n",
    "data_places  = pd.read_csv(f'{folder}/res.csv') # имя файла с результатами\n",
    "diplom_path  = f'{folder}/diplom.pdf'           # шаблон диплома\n",
    "save_folder  = f'{folder}/new_diplomas'         # папка куда сохраняем\n",
    "diploma_type = 'scratch_olymp'                            # тип олимпиады"
   ]
  },
  {
   "cell_type": "markdown",
   "id": "b403c08e-ed28-4d3a-9eaa-6054c135f581",
   "metadata": {},
   "source": [
    "## Функция для печати диплома"
   ]
  },
  {
   "cell_type": "code",
   "execution_count": 7,
   "id": "20ac8ac2-c69b-42af-9902-5ba54e6ea6cf",
   "metadata": {},
   "outputs": [],
   "source": [
    "import io\n",
    "from reportlab.lib.pagesizes import letter\n",
    "from reportlab.pdfbase import pdfmetrics\n",
    "from reportlab.pdfbase.ttfonts import TTFont\n",
    "from reportlab.pdfgen import canvas\n",
    "from PyPDF2 import PdfFileReader, PdfFileWriter\n",
    "\n",
    "places = {1: 'I', 2: 'II', 3: 'III'}\n",
    "types = {'dip': 'ДИПЛОМ', 'po': 'ПОХВАЛЬНЫЙ ОТЗЫВ'}\n",
    "league = {0: 'Высшей', 1: 'Первой'}\n",
    "\n",
    "\n",
    "def get_diploma_scratch_22(row):\n",
    "    packet = io.BytesIO()\n",
    "    can = canvas.Canvas(packet, pagesize=letter)\n",
    "    pdfmetrics.registerFont(TTFont('PantonReg', './res/Panton-Regular.ttf'))\n",
    "    pdfmetrics.registerFont(TTFont('PantonBold', './res/Panton-Bold.ttf'))\n",
    "    pdfmetrics.registerFont(TTFont('PantonExtraBold', './res/Panton-ExtraBold.ttf'))\n",
    "    pdfmetrics.registerFont(TTFont('AvaReg', './res/AGAvalancheC-Regular.ttf'))\n",
    "    pdfmetrics.registerFont(TTFont('AvaBold', './res/AGAvalancheC-Bold.ttf'))\n",
    "    # AGAvalancheC\n",
    "\n",
    "    center = 300\n",
    "    dy = -70\n",
    "    \n",
    "\n",
    "    if str(row.place).isdigit() :\n",
    "        can.setFont('PantonExtraBold', 56)\n",
    "        can.drawCentredString(center, 570 + dy, 'ДИПЛОМ')\n",
    "    elif str(row.place) == 'po1':\n",
    "        can.setFont('PantonExtraBold', 40)\n",
    "        can.drawCentredString(center, 570 + dy, 'ПОХВАЛЬНЫЙ ОТЗЫВ')\n",
    "    elif str(row.place) == 'po2':\n",
    "        can.setFont('PantonExtraBold', 40)\n",
    "        can.drawCentredString(center, 570+ dy, 'ПОХВАЛЬНЫЙ ОТЗЫВ')\n",
    "    elif str(row.place) == 'gp':\n",
    "        can.setFont('PantonExtraBold', 38)\n",
    "        can.drawCentredString(center, 570+ dy, 'УСПЕШНОЕ ВЫСТУПЛЕНИЕ')\n",
    "\n",
    "    can.setFont('PantonBold', 38)\n",
    "    can.drawCentredString(center, 432+ dy, row.first_name)\n",
    "    can.drawCentredString(center, 382+ dy, row.second_name)\n",
    "\n",
    "    can.setFont('PantonExtraBold', 32)\n",
    "    if str(row.place).isdigit():\n",
    "        string = places[int(row.place)] + ' степени'\n",
    "        can.drawCentredString(center, 520 + dy, string)\n",
    "    elif str(row.place) == 'po2' or str(row.place) == 'po1':\n",
    "        num = row.place[-1]\n",
    "        string = places[int(num)] + ' степени'\n",
    "        can.drawCentredString(center, 520 + dy, string)\n",
    "\n",
    "    can.setFont('PantonReg', 22)\n",
    "    can.drawCentredString(center, 330+ dy, f\"{row.grade} класc\")\n",
    "\n",
    "    can.setFont('PantonBold', 22)\n",
    "    #can.drawCentredString(center, 505, f\"в {league[row.league]} лиге\")\n",
    "    can.save()\n",
    "    packet.seek(0)\n",
    "    new_pdf = PdfFileReader(packet)\n",
    "    p1 = new_pdf.getPage(0)\n",
    "    return p1"
   ]
  },
  {
   "cell_type": "markdown",
   "id": "8aac2984-6ba1-4a39-a90d-5a763bc3242d",
   "metadata": {},
   "source": [
    "## Напечатать первые 2 сертификата"
   ]
  },
  {
   "cell_type": "code",
   "execution_count": 8,
   "id": "652274f7-8ff6-4ab4-990c-e75d33994ae6",
   "metadata": {},
   "outputs": [
    {
     "name": "stdout",
     "output_type": "stream",
     "text": [
      "Total of 63 students\n",
      "Saving ./../..//scratch_2022//new_diplomas/Кириллов_Марк.pdf\n",
      "Saving ./../..//scratch_2022//new_diplomas/Трофимов_Герман.pdf\n",
      "Saving ./../..//scratch_2022//new_diplomas/Смирнов_Максим.pdf\n",
      "Saving ./../..//scratch_2022//new_diplomas/Карлов_Максим.pdf\n",
      "Saving ./../..//scratch_2022//new_diplomas/Ковалев_Василий.pdf\n",
      "Saving ./../..//scratch_2022//new_diplomas/Сафиуллин_Тимофей.pdf\n",
      "Saving ./../..//scratch_2022//new_diplomas/Кенина_Василиса.pdf\n",
      "Saving ./../..//scratch_2022//new_diplomas/Кытманов_Максим.pdf\n",
      "Saving ./../..//scratch_2022//new_diplomas/Санников_Леонид.pdf\n",
      "Saving ./../..//scratch_2022//new_diplomas/Домницкая_Мария.pdf\n",
      "Saving ./../..//scratch_2022//new_diplomas/Ракицкий_Дмитрий.pdf\n",
      "Saving ./../..//scratch_2022//new_diplomas/Григорян_Антон.pdf\n",
      "Saving ./../..//scratch_2022//new_diplomas/Бояринов_Владимир.pdf\n",
      "Saving ./../..//scratch_2022//new_diplomas/Кленина_Анастасия.pdf\n",
      "Saving ./../..//scratch_2022//new_diplomas/Григорьев_Алексей.pdf\n",
      "Saving ./../..//scratch_2022//new_diplomas/Чернин_Александр.pdf\n",
      "Saving ./../..//scratch_2022//new_diplomas/Струков_Роман.pdf\n",
      "Saving ./../..//scratch_2022//new_diplomas/Велтистов_Фёдор.pdf\n",
      "Saving ./../..//scratch_2022//new_diplomas/Хайртинова_Айгуль.pdf\n",
      "Saving ./../..//scratch_2022//new_diplomas/Гольцин_Вячеслав.pdf\n",
      "Saving ./../..//scratch_2022//new_diplomas/Калита_Роман.pdf\n",
      "Saving ./../..//scratch_2022//new_diplomas/Котов_Вячеслав.pdf\n",
      "Saving ./../..//scratch_2022//new_diplomas/Захаров_Никита.pdf\n",
      "Saving ./../..//scratch_2022//new_diplomas/Соснихин_Александр.pdf\n",
      "Saving ./../..//scratch_2022//new_diplomas/Пивоваров_Даниил.pdf\n",
      "Saving ./../..//scratch_2022//new_diplomas/Шумилов_Александр.pdf\n",
      "Saving ./../..//scratch_2022//new_diplomas/Шехтер_Александр.pdf\n",
      "Saving ./../..//scratch_2022//new_diplomas/Савельева_Анна.pdf\n",
      "Saving ./../..//scratch_2022//new_diplomas/Кампен_Олег.pdf\n",
      "Saving ./../..//scratch_2022//new_diplomas/Викторов_Александр.pdf\n",
      "Saving ./../..//scratch_2022//new_diplomas/Урывский_Кирилл.pdf\n",
      "Saving ./../..//scratch_2022//new_diplomas/Колмогоров_Влад.pdf\n",
      "Saving ./../..//scratch_2022//new_diplomas/Иванов_Дмитрий.pdf\n",
      "Saving ./../..//scratch_2022//new_diplomas/Иванова_Екатерина.pdf\n",
      "Saving ./../..//scratch_2022//new_diplomas/Асханутдинов_Максим.pdf\n",
      "Saving ./../..//scratch_2022//new_diplomas/Рюмкин_Максим.pdf\n"
     ]
    }
   ],
   "source": [
    "import  diploma_makers\n",
    "dimlomas_print = DiplomasPrint(data=data_places)\n",
    "dimlomas_print.save_diplomas_new( # шаблон диплома\n",
    "                                            save_folder=save_folder,\n",
    "                                            diplom_path=diplom_path,\n",
    "                                            diploma_maker=get_diploma_scratch_22)"
   ]
  },
  {
   "cell_type": "markdown",
   "metadata": {
    "collapsed": false
   },
   "source": []
  },
  {
   "cell_type": "markdown",
   "id": "204bfbb5-d49b-4559-bd1c-e08d458a566e",
   "metadata": {},
   "source": [
    "## Напечатать остальные дипломы"
   ]
  },
  {
   "cell_type": "code",
   "execution_count": null,
   "metadata": {
    "collapsed": false,
    "pycharm": {
     "name": "#%%\n"
    }
   },
   "outputs": [],
   "source": []
  },
  {
   "cell_type": "code",
   "execution_count": 9,
   "id": "490ba477-7b79-4b94-92ad-1583fe624a4f",
   "metadata": {},
   "outputs": [
    {
     "data": {
      "text/plain": [
       "'\" dimlomas_print = DiplomasPrint(data=data_places)\\ndimlomas_print.make_all_diplomas_one_sheet_pure(\\n                                 diploma_maker=get_sert,# шаблон диплома\\n                                 save_folder=save_folder\\n                                 )# папка куда сохраняем и '"
      ]
     },
     "execution_count": 9,
     "metadata": {},
     "output_type": "execute_result"
    }
   ],
   "source": [
    "#dimlomas_print = DiplomasPrint(data=data_places)\n",
    "#dimlomas_print.save_diplomas_different_files(diplom_path=diplom_path, # шаблон диплома\n",
    "#                                                 save_folder=save_folder, diploma_type=diploma_type)# папка куда сохраняем и\n",
    "\"\"\"\" dimlomas_print = DiplomasPrint(data=data_places)\n",
    "dimlomas_print.make_all_diplomas_one_sheet_pure(\n",
    "                                 diploma_maker=get_sert,# шаблон диплома\n",
    "                                 save_folder=save_folder\n",
    "                                 )# папка куда сохраняем и \"\"\""
   ]
  }
 ],
 "metadata": {
  "interpreter": {
   "hash": "c382337f6ce7f812d60dc29599c486a687f5fcf705c2446190865c4722ee4f6e"
  },
  "kernelspec": {
   "display_name": "Python 3.9.1 ('venv': venv)",
   "language": "python",
   "name": "python3"
  },
  "language_info": {
   "codemirror_mode": {
    "name": "ipython",
    "version": 3
   },
   "file_extension": ".py",
   "mimetype": "text/x-python",
   "name": "python",
   "nbconvert_exporter": "python",
   "pygments_lexer": "ipython3",
   "version": "3.9.1"
  }
 },
 "nbformat": 4,
 "nbformat_minor": 5
}
